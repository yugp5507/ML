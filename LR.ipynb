{
  "nbformat": 4,
  "nbformat_minor": 0,
  "metadata": {
    "colab": {
      "provenance": [],
      "authorship_tag": "ABX9TyOvLr1r2iHxvdo0uhHnbn6F",
      "include_colab_link": true
    },
    "kernelspec": {
      "name": "python3",
      "display_name": "Python 3"
    },
    "language_info": {
      "name": "python"
    }
  },
  "cells": [
    {
      "cell_type": "markdown",
      "metadata": {
        "id": "view-in-github",
        "colab_type": "text"
      },
      "source": [
        "<a href=\"https://colab.research.google.com/github/yugp5507/ML/blob/main/LR.ipynb\" target=\"_parent\"><img src=\"https://colab.research.google.com/assets/colab-badge.svg\" alt=\"Open In Colab\"/></a>"
      ]
    },
    {
      "cell_type": "code",
      "execution_count": null,
      "metadata": {
        "id": "Kl3A6v30EvAk"
      },
      "outputs": [],
      "source": [
        "import numpy as np\n",
        "import pandas as pd\n",
        "from sklearn.linear_model import LinearRegression\n",
        "from sklearn.model_selection import train_test_split\n",
        "import seaborn as sns\n",
        "import matplotlib.pyplot as plt"
      ]
    },
    {
      "cell_type": "code",
      "source": [
        "pizza_price = pd.read_csv('/content/drive/MyDrive/Colab Notebooks/Data/pizza.csv')\n",
        "pizza_price.columns\n",
        "y = pizza_price['price']\n",
        "x = pizza_price[['radius']]\n",
        "\n",
        "x_train, x_test, y_train, y_test = train_test_split(x,y, train_size=0.7, random_state=2529)\n",
        "\n",
        "model = LinearRegression()\n",
        "\n",
        "model.fit(x_train,y_train)\n",
        "print(model.intercept_)\n",
        "print(model.coef_)\n",
        "y_pred = model.predict(x_test)\n",
        "#y_pred"
      ],
      "metadata": {
        "colab": {
          "base_uri": "https://localhost:8080/"
        },
        "id": "-nV54nXFFBKZ",
        "outputId": "54f83b8c-b54c-47ac-cbc5-c71afa205d1f"
      },
      "execution_count": null,
      "outputs": [
        {
          "output_type": "stream",
          "name": "stdout",
          "text": [
            "-277.3452914798205\n",
            "[67.2735426]\n"
          ]
        }
      ]
    },
    {
      "cell_type": "code",
      "source": [
        "plt.scatter(x, y, color=\"blue\", label=\"data pointers\")\n",
        "plt.plot(x, predictions, color='red', label=\"regression line\")\n",
        "plt.xlabel('independent variable X')\n",
        "plt.ylabel('independent variable Y')\n",
        "plt.legend()\n",
        "plt.show()"
      ],
      "metadata": {
        "colab": {
          "base_uri": "https://localhost:8080/",
          "height": 624
        },
        "id": "mLlREwvZGJes",
        "outputId": "36c5a166-8461-4307-f749-0065d05f4ed5"
      },
      "execution_count": null,
      "outputs": [
        {
          "output_type": "error",
          "ename": "NameError",
          "evalue": "name 'predictions' is not defined",
          "traceback": [
            "\u001b[0;31m---------------------------------------------------------------------------\u001b[0m",
            "\u001b[0;31mNameError\u001b[0m                                 Traceback (most recent call last)",
            "\u001b[0;32m<ipython-input-10-0cfc33b03068>\u001b[0m in \u001b[0;36m<cell line: 2>\u001b[0;34m()\u001b[0m\n\u001b[1;32m      1\u001b[0m \u001b[0mplt\u001b[0m\u001b[0;34m.\u001b[0m\u001b[0mscatter\u001b[0m\u001b[0;34m(\u001b[0m\u001b[0mx\u001b[0m\u001b[0;34m,\u001b[0m \u001b[0my\u001b[0m\u001b[0;34m,\u001b[0m \u001b[0mcolor\u001b[0m\u001b[0;34m=\u001b[0m\u001b[0;34m\"blue\"\u001b[0m\u001b[0;34m,\u001b[0m \u001b[0mlabel\u001b[0m\u001b[0;34m=\u001b[0m\u001b[0;34m\"data pointers\"\u001b[0m\u001b[0;34m)\u001b[0m\u001b[0;34m\u001b[0m\u001b[0;34m\u001b[0m\u001b[0m\n\u001b[0;32m----> 2\u001b[0;31m \u001b[0mplt\u001b[0m\u001b[0;34m.\u001b[0m\u001b[0mplot\u001b[0m\u001b[0;34m(\u001b[0m\u001b[0mx\u001b[0m\u001b[0;34m,\u001b[0m \u001b[0mpredictions\u001b[0m\u001b[0;34m,\u001b[0m \u001b[0mcolor\u001b[0m\u001b[0;34m=\u001b[0m\u001b[0;34m'red'\u001b[0m\u001b[0;34m,\u001b[0m \u001b[0mlabel\u001b[0m\u001b[0;34m=\u001b[0m\u001b[0;34m\"regression line\"\u001b[0m\u001b[0;34m)\u001b[0m\u001b[0;34m\u001b[0m\u001b[0;34m\u001b[0m\u001b[0m\n\u001b[0m\u001b[1;32m      3\u001b[0m \u001b[0mplt\u001b[0m\u001b[0;34m.\u001b[0m\u001b[0mxlabel\u001b[0m\u001b[0;34m(\u001b[0m\u001b[0;34m'independent variable X'\u001b[0m\u001b[0;34m)\u001b[0m\u001b[0;34m\u001b[0m\u001b[0;34m\u001b[0m\u001b[0m\n\u001b[1;32m      4\u001b[0m \u001b[0mplt\u001b[0m\u001b[0;34m.\u001b[0m\u001b[0mylabel\u001b[0m\u001b[0;34m(\u001b[0m\u001b[0;34m'independent variable Y'\u001b[0m\u001b[0;34m)\u001b[0m\u001b[0;34m\u001b[0m\u001b[0;34m\u001b[0m\u001b[0m\n\u001b[1;32m      5\u001b[0m \u001b[0mplt\u001b[0m\u001b[0;34m.\u001b[0m\u001b[0mlegend\u001b[0m\u001b[0;34m(\u001b[0m\u001b[0;34m)\u001b[0m\u001b[0;34m\u001b[0m\u001b[0;34m\u001b[0m\u001b[0m\n",
            "\u001b[0;31mNameError\u001b[0m: name 'predictions' is not defined"
          ]
        },
        {
          "output_type": "display_data",
          "data": {
            "text/plain": [
              "<Figure size 640x480 with 1 Axes>"
            ],
            "image/png": "[encoded data removed]"
          },
          "metadata": {}
        }
      ]
    },
    {
      "cell_type": "code",
      "source": [
        "import pandas as pd\n",
        "import numpy as np\n",
        "from sklearn.model_selection import train_test_split\n",
        "from sklearn.linear_model import LinearRegression\n",
        "from sklearn.metrics import mean_squared_error, r2_score\n",
        "import matplotlib.pyplot as plt\n",
        "\n",
        "# Load data\n",
        "data = pd.read_csv('/content/drive/MyDrive/Colab Notebooks/Data/pizza.csv')\n",
        "\n",
        "# Display column names\n",
        "print(data.columns)\n",
        "\n",
        "# Define features and target\n",
        "y = data['price']\n",
        "X = data[['radius']]\n",
        "\n",
        "# Train-test split\n",
        "X_train, X_test, y_train, y_test = train_test_split(X, y, train_size=0.7, random_state=2529)\n",
        "\n",
        "# Create and train the linear regression model\n",
        "model = LinearRegression()\n",
        "model.fit(X_train, y_train)\n",
        "\n",
        "# Display model parameters\n",
        "print('Intercept:', model.intercept_)\n",
        "print('Coefficient:', model.coef_)\n",
        "\n",
        "# Predict on test data\n",
        "y_pred = model.predict(X_test)\n",
        "\n",
        "# Evaluate the model\n",
        "mse = mean_squared_error(y_test, y_pred)\n",
        "rmse = np.sqrt(mse)\n",
        "r2 = r2_score(y_test, y_pred)\n",
        "\n",
        "print(f'MSE: {mse}, RMSE: {rmse}, R-squared: {r2}')\n",
        "\n",
        "# Visualize the regression line\n",
        "plt.scatter(X_test, y_test, color='black')\n",
        "plt.plot(X_test, y_pred, color='blue', linewidth=3)\n",
        "plt.xlabel('Diameter')\n",
        "plt.ylabel('Price')\n",
        "plt.title('Linear Regression - Pizza Price Prediction')\n",
        "plt.show()\n",
        "\n",
        "# Predict prices for diameters between 12 and 18\n",
        "new_diameters = np.arange(12, 50 + 1).reshape(-1, 1)\n",
        "# new_diameters =\n",
        "new_preds = model.predict(new_diameters)\n",
        "\n",
        "# Display the predictions for the new diameters\n",
        "pred_df = pd.DataFrame({'Diameter': new_diameters.flatten(), 'Pred_Price': new_preds})\n",
        "print(pred_df)"
      ],
      "metadata": {
        "id": "JW6bN3LnHzF2",
        "colab": {
          "base_uri": "https://localhost:8080/",
          "height": 1000
        },
        "outputId": "e989cfda-616f-4042-8e5c-053b488b6274"
      },
      "execution_count": null,
      "outputs": [
        {
          "output_type": "stream",
          "name": "stdout",
          "text": [
            "Index(['radius', 'price'], dtype='object')\n",
            "Intercept: -277.3452914798205\n",
            "Coefficient: [67.2735426]\n",
            "MSE: 6547.233606145293, RMSE: 80.91497763792124, R-squared: 0.8839271604450696\n"
          ]
        },
        {
          "output_type": "display_data",
          "data": {
            "text/plain": [
              "<Figure size 640x480 with 1 Axes>"
            ],
            "image/png": "[encoded data removed]"
          },
          "metadata": {}
        },
        {
          "output_type": "stream",
          "name": "stdout",
          "text": [
            "    Diameter   Pred_Price\n",
            "0         12   529.937220\n",
            "1         13   597.210762\n",
            "2         14   664.484305\n",
            "3         15   731.757848\n",
            "4         16   799.031390\n",
            "5         17   866.304933\n",
            "6         18   933.578475\n",
            "7         19  1000.852018\n",
            "8         20  1068.125561\n",
            "9         21  1135.399103\n",
            "10        22  1202.672646\n",
            "11        23  1269.946188\n",
            "12        24  1337.219731\n",
            "13        25  1404.493274\n",
            "14        26  1471.766816\n",
            "15        27  1539.040359\n",
            "16        28  1606.313901\n",
            "17        29  1673.587444\n",
            "18        30  1740.860987\n",
            "19        31  1808.134529\n",
            "20        32  1875.408072\n",
            "21        33  1942.681614\n",
            "22        34  2009.955157\n",
            "23        35  2077.228700\n",
            "24        36  2144.502242\n",
            "25        37  2211.775785\n",
            "26        38  2279.049327\n",
            "27        39  2346.322870\n",
            "28        40  2413.596413\n",
            "29        41  2480.869955\n",
            "30        42  2548.143498\n",
            "31        43  2615.417040\n",
            "32        44  2682.690583\n",
            "33        45  2749.964126\n",
            "34        46  2817.237668\n",
            "35        47  2884.511211\n",
            "36        48  2951.784753\n",
            "37        49  3019.058296\n",
            "38        50  3086.331839\n"
          ]
        },
        {
          "output_type": "stream",
          "name": "stderr",
          "text": [
            "/usr/local/lib/python3.10/dist-packages/sklearn/base.py:439: UserWarning: X does not have valid feature names, but LinearRegression was fitted with feature names\n",
            "  warnings.warn(\n"
          ]
        }
      ]
    },
    {
      "cell_type": "code",
      "source": [
        "import numpy as np"
      ],
      "metadata": {
        "id": "FTK0qasjMZhH"
      },
      "execution_count": null,
      "outputs": []
    },
    {
      "cell_type": "code",
      "source": [
        "n1 = np.arange(1,10).reshape(3,3)\n",
        "n1"
      ],
      "metadata": {
        "colab": {
          "base_uri": "https://localhost:8080/"
        },
        "id": "zYUQxJCOWopT",
        "outputId": "12fa2458-b7a1-446f-c99f-df38478623b3"
      },
      "execution_count": null,
      "outputs": [
        {
          "output_type": "execute_result",
          "data": {
            "text/plain": [
              "array([[1, 2, 3],\n",
              "       [4, 5, 6],\n",
              "       [7, 8, 9]])"
            ]
          },
          "metadata": {},
          "execution_count": 6
        }
      ]
    },
    {
      "cell_type": "code",
      "source": [
        "n1 = np.arange(1,21).reshape(-1,4)\n",
        "n1"
      ],
      "metadata": {
        "colab": {
          "base_uri": "https://localhost:8080/"
        },
        "id": "b__oeoedWuIM",
        "outputId": "59ee8fa8-476e-4159-e3aa-c5486300f1e6"
      },
      "execution_count": null,
      "outputs": [
        {
          "output_type": "execute_result",
          "data": {
            "text/plain": [
              "array([[ 1,  2,  3,  4],\n",
              "       [ 5,  6,  7,  8],\n",
              "       [ 9, 10, 11, 12],\n",
              "       [13, 14, 15, 16],\n",
              "       [17, 18, 19, 20]])"
            ]
          },
          "metadata": {},
          "execution_count": 11
        }
      ]
    },
    {
      "cell_type": "markdown",
      "source": [
        "# **multiline linear regression**"
      ],
      "metadata": {
        "id": "8_sOMoc_3Orm"
      }
    },
    {
      "cell_type": "code",
      "source": [
        "data ={'X1': [1,2,3,4,5],\n",
        "       'X2': [2,3,5,6,7],\n",
        "       'Y': [3,5,7,9,11]\n",
        "       }\n",
        "df = pd.DataFrame(data)\n",
        "\n",
        "#split the data into independent variable (x) and the depedant variable (Y)\n",
        "X = df[['X1','X2']]\n",
        "Y = df['Y']\n",
        "#print(X['x1'])\n",
        "\n",
        "# split the dataset into training and testing sets\n",
        "X_train, X_test, Y_train, Y_test = train_test_split(X, Y, test_size = 0.2, random_state = 42)\n",
        "\n",
        "# create a liner regression model\n",
        "model = LinearRegression()\n",
        "\n",
        "# fit the model to the training data\n",
        "model.fit(X_train, Y_train)\n",
        "\n",
        "#make prediction on  the test set\n",
        "Y_pred = model.predict(X_test)"
      ],
      "metadata": {
        "id": "OZQQYez3W0cm"
      },
      "execution_count": null,
      "outputs": []
    },
    {
      "cell_type": "code",
      "source": [
        "Y_pred"
      ],
      "metadata": {
        "colab": {
          "base_uri": "https://localhost:8080/"
        },
        "id": "Vo12fAcj44JX",
        "outputId": "1ae3fa1b-a532-4fd5-cf9b-64a6abe15edf"
      },
      "execution_count": null,
      "outputs": [
        {
          "output_type": "execute_result",
          "data": {
            "text/plain": [
              "array([5.])"
            ]
          },
          "metadata": {},
          "execution_count": 9
        }
      ]
    },
    {
      "cell_type": "code",
      "source": [
        "data ={'X1': [7,9.5,13,18], #size\n",
        "       'X2': [40,80,120,200], #topings\n",
        "       'Y': [235,555,715,1150] #price\n",
        "       }\n",
        "df = pd.DataFrame(data)\n",
        "\n",
        "#split the data into independent variable (x) and the depedant variable (Y)\n",
        "X = df[['X1','X2']]\n",
        "Y = df['Y']\n",
        "#print(X['x1'])\n",
        "\n",
        "# split the dataset into training and testing sets\n",
        "X_train, X_test, Y_train, Y_test = train_test_split(X, Y, test_size = 0.2, random_state = 42)\n",
        "\n",
        "# create a liner regression model\n",
        "model = LinearRegression()\n",
        "\n",
        "# fit the model to the training data\n",
        "model.fit(X_train, Y_train)\n",
        "print(X_test)\n",
        "#make prediction on  the test set\n",
        "Y_pred = model.predict(X_test)\n",
        "Y_pred"
      ],
      "metadata": {
        "colab": {
          "base_uri": "https://localhost:8080/"
        },
        "id": "kE8eAzvy5Y38",
        "outputId": "9016ee95-8bf7-4fe7-8b33-8d23729e0f4f"
      },
      "execution_count": null,
      "outputs": [
        {
          "output_type": "stream",
          "name": "stdout",
          "text": [
            "    X1  X2\n",
            "1  9.5  80\n"
          ]
        },
        {
          "output_type": "execute_result",
          "data": {
            "text/plain": [
              "array([452.5])"
            ]
          },
          "metadata": {},
          "execution_count": 23
        }
      ]
    },
    {
      "cell_type": "code",
      "source": [
        "# New data for prediction\n",
        "new_data = {'X1': [26], 'X2': [250]}\n",
        "new_df = pd.DataFrame(new_data)\n",
        "\n",
        "# Use the trained model to make predictions on the new data\n",
        "new_prediction = model.predict(new_df)\n",
        "\n",
        "# Print the predicted value\n",
        "print(\"Predicted Price:\", new_prediction[0])"
      ],
      "metadata": {
        "colab": {
          "base_uri": "https://localhost:8080/"
        },
        "id": "RdgcunCA6eW2",
        "outputId": "18834fd8-724f-46f2-c4de-1d10b21fccce"
      },
      "execution_count": null,
      "outputs": [
        {
          "output_type": "stream",
          "name": "stdout",
          "text": [
            "Predicted Price: 1641.2499999999998\n"
          ]
        }
      ]
    },
    {
      "cell_type": "code",
      "source": [
        "original_list = [\"one\", \"two\", \"three\"]\n",
        "\n",
        "reversed_list = []\n",
        "for i in range(len(original_list)):\n",
        "    if i % 2 == 0:\n",
        "            reversed_list.append(original_list[i][::-1])\n",
        "    else:\n",
        "            reversed_list.append(original_list[i])\n",
        "\n",
        "\n",
        "     print(reversed_list)"
      ],
      "metadata": {
        "id": "L79hDPlLAuTL",
        "colab": {
          "base_uri": "https://localhost:8080/",
          "height": 141
        },
        "outputId": "bd057c73-365d-4108-b7af-3748fb7fcf2a"
      },
      "execution_count": null,
      "outputs": [
        {
          "output_type": "error",
          "ename": "IndentationError",
          "evalue": "unindent does not match any outer indentation level (<tokenize>, line 11)",
          "traceback": [
            "\u001b[0;36m  File \u001b[0;32m\"<tokenize>\"\u001b[0;36m, line \u001b[0;32m11\u001b[0m\n\u001b[0;31m    print(reversed_list)\u001b[0m\n\u001b[0m    ^\u001b[0m\n\u001b[0;31mIndentationError\u001b[0m\u001b[0;31m:\u001b[0m unindent does not match any outer indentation level\n"
          ]
        }
      ]
    }
  ]
}